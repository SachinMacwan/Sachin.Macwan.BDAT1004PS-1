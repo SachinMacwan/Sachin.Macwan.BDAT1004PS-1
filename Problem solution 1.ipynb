{
 "cells": [
  {
   "cell_type": "markdown",
   "id": "8504f728",
   "metadata": {},
   "source": [
    "## Question 1\n",
    "### What data type is each of the following (evaluate where necessary)?\n",
    "\n",
    "##### 5 \n",
    "##### datatype = integer\n",
    "##### 5.0\n",
    "##### datatype= float\n",
    "##### 5 > 1\n",
    "##### datatype= boolean\n",
    "##### '5'\n",
    "##### datatype= string\n",
    "##### 5 * 2\n",
    "##### datatype = integer\n",
    "##### '5' * 2\n",
    "##### datatype = string\n",
    "##### '5' + '2'\n",
    "##### datatype = string\n",
    "##### 5 / 2\n",
    "##### datatype = float\n",
    "##### 5%2\n",
    "##### datatype = int\n",
    "##### {5, 2, 1}\n",
    "##### datatype = set\n",
    "##### 5== 3\n",
    "##### datatype = set\n",
    "##### Pi(the number)\n",
    "##### datatype = tuple"
   ]
  },
  {
   "cell_type": "code",
   "execution_count": 52,
   "id": "53d361d2",
   "metadata": {},
   "outputs": [
    {
     "name": "stdout",
     "output_type": "stream",
     "text": [
      "How many letters are there in 'Supercalifragilisticexpialidocious'?\n",
      "34\n",
      "\n",
      "\n",
      "Does 'Supercalifragilisticexpialidocious' contain 'ice' as a substring?\n",
      "True\n",
      "yes it does \n",
      "\n",
      " Which of the following words is the longest: Supercalifragilisticexpialidocious, Honorificabilitudinitatibus, or Bababadalgharaghtakamminarronnkonn?\n",
      "Supercalifragilisticexpialidocious is the longest \n",
      "\n",
      "Which composer comes first in the dictionary: 'Berlioz', 'Borodin', 'Brian', 'Bartok', 'Bellini', 'Buxtehude', 'Bernstein'. Which one comes last?\n",
      "Bartok comes first and Buxtehude comes last \n"
     ]
    }
   ],
   "source": [
    "#Question 2\n",
    "\n",
    "#A. \n",
    "\n",
    "print (\"How many letters are there in 'Supercalifragilisticexpialidocious'?\")\n",
    "print (len(\"Supercalifragilisticexpialidocious\" ))\n",
    "print(\"\\n\")\n",
    "\n",
    "#B. \n",
    "\n",
    "name = 'Supercalifragilisticexpialidocious'\n",
    "print (\"Does 'Supercalifragilisticexpialidocious' contain 'ice' as a substring?\")\n",
    "print('ice' in name)\n",
    "print(\"yes it does \\n\")\n",
    "\n",
    "#c.\n",
    "\n",
    "names = ['Supercalifragilisticexpialidocious', 'Honorificabilitudinitatibus', 'Bababadalgharaghtakamminarronnkonn']\n",
    "word=None\n",
    "max_length=0\n",
    "for s in names:\n",
    "    if len(s)>max_length:\n",
    "        max_length=len(s)\n",
    "        word = s\n",
    "print (\" Which of the following words is the longest: Supercalifragilisticexpialidocious, Honorificabilitudinitatibus, or Bababadalgharaghtakamminarronnkonn?\")\n",
    "print(word+\" is the longest \\n\")\n",
    "\n",
    "#D. \n",
    "\n",
    "words = ['Berlioz', 'Borodin', 'Brian','Bartok','Bellini','Buxtehude','Bernstein']  \n",
    "words.sort()\n",
    "print (\"Which composer comes first in the dictionary: 'Berlioz', 'Borodin', 'Brian', 'Bartok', 'Bellini', 'Buxtehude', 'Bernstein'. Which one comes last?\")\n",
    "print(words[0] + \" comes first and \" + words[-1] + \" comes last \")\n",
    "#for word in words:  \n",
    "#   print(word)"
   ]
  },
  {
   "cell_type": "markdown",
   "id": "a5512406",
   "metadata": {},
   "source": [
    "## Question 3 :\n",
    "### Implement function triangleArea(a,b,c) that takes as input the lengths of the 3 sides of a triangle and returns the area of ### the triangle. By Heron's formula, the areaof a triangle with side lengths a, b, and c is s(s - a)(s -b)(s -c), where s = (a +b + c) /2.\n"
   ]
  },
  {
   "cell_type": "code",
   "execution_count": 2,
   "id": "713df37a",
   "metadata": {},
   "outputs": [
    {
     "name": "stdout",
     "output_type": "stream",
     "text": [
      "1.7320508075688772\n"
     ]
    }
   ],
   "source": [
    "import math\n",
    "def triangleArea(x,y,z):\n",
    "    s = (x + y + z) / 2\n",
    "    area = (s*(s-x)*(s-y)*(s-z)) \n",
    "    print(math.sqrt(area))\n",
    "triangleArea(2,2,2)"
   ]
  },
  {
   "cell_type": "markdown",
   "id": "64d8d849",
   "metadata": {},
   "source": [
    "## Question 4\n",
    "### Write a program in python to separate odd and even integers in separate arrays. Go to the editor"
   ]
  },
  {
   "cell_type": "code",
   "execution_count": 1,
   "id": "19c61b49",
   "metadata": {},
   "outputs": [
    {
     "name": "stdout",
     "output_type": "stream",
     "text": [
      "Input the number of elements to be stored in the array :5\n",
      "Input 5 elements in the array :\n",
      "Enter the element - 0 :25\n",
      "Enter the element - 1 :42\n",
      "Enter the element - 2 :47\n",
      "Enter the element - 3 :32\n",
      "Enter the element - 4 :56\n",
      "The even elements are: \n",
      " 42 32 56\n",
      "The odd elements are: \n",
      " 25 47\n"
     ]
    }
   ],
   "source": [
    "def seperate(A): \n",
    "   even= [] \n",
    "   odd= [] \n",
    "   for i in A: \n",
    "      if (i % 2 == 0): \n",
    "         even.append(i) \n",
    "      else: \n",
    "         odd.append(i) \n",
    "   print(\"The even elements are: \\n\",*even,sep=' ') \n",
    "   print(\"The odd elements are: \\n\",*odd, sep = ' ')\n",
    "A=list()\n",
    "element=int(input(\"Input the number of elements to be stored in the array :\"))\n",
    "print(\"Input 5 elements in the array :\")\n",
    "\n",
    "for index in range(int(element)):\n",
    "     u_input=int(input(\"Enter the element - {} :\".format(index)))\n",
    "     A.append(u_input)\n",
    "seperate(A) "
   ]
  },
  {
   "cell_type": "markdown",
   "id": "55892c28",
   "metadata": {},
   "source": [
    "## Question 5\n",
    "### Write a function inside(x,y,x1,y1,x2,y2) that returns True or False depending on whether the point (x,y) lies in the  rectangle with lower left corner (x1,y1) and upper right corner (x2,y2)."
   ]
  },
  {
   "cell_type": "code",
   "execution_count": 45,
   "id": "8b16bd30",
   "metadata": {},
   "outputs": [
    {
     "name": "stdout",
     "output_type": "stream",
     "text": [
      "true\n",
      "false\n",
      "true\n"
     ]
    }
   ],
   "source": [
    "# i had to refer some math to figure how to find the solution\n",
    "#link for the math understanding : https://math.stackexchange.com/questions/571762/how-to-find-out-if-a-point-lie-in-rectangle\n",
    "\n",
    "def inside(x,y,x1,y1,x2,y2):\n",
    "    if (x>x1 and x < x2 and y > y1 and y < y2):\n",
    "        print(\"true\")\n",
    "    else:    \n",
    "        print(\"false\")\n",
    "inside(1,1,0,0,2,3)\n",
    "inside(1,1,0.3,0.7,1.1,0.7)\n",
    "inside(1,1,0.5,0.2,1.1,2)"
   ]
  },
  {
   "cell_type": "markdown",
   "id": "5ebd4694",
   "metadata": {},
   "source": [
    "## Question 6\n",
    "### You can turn a word into pig-Latin using the following two rules (simplified):If the word starts with a consonant, move that letter to the end and append 'ay'. For example, 'happy' becomes  'appyhay' and 'pencil' becomes 'encilpay'. If the word starts with a vowel, simply append 'way' to the end of the word. For example, 'enter' becomes 'enterway' and 'other' becomes 'otherway' . For our purposes, there are 5 vowels: a, e, i, o, u (so we count y as a consonant). Write a function pig() that takes a word (i.e., a string) as input and returns its pig-Latin form. Your function should still work if the input word contains upper case characters. Your output should always be lower case however.1"
   ]
  },
  {
   "cell_type": "code",
   "execution_count": 35,
   "id": "89608ddf",
   "metadata": {},
   "outputs": [
    {
     "name": "stdout",
     "output_type": "stream",
     "text": [
      "Enter the String: enter\n",
      "enterway\n"
     ]
    }
   ],
   "source": [
    "string = input('Enter the String: ')\n",
    "length = len(string)\n",
    "last_char = string[length -1]\n",
    "vowel = 'aeiou'\n",
    "if string[0].lower() in vowel:\n",
    "   print(string.lower()+'way')\n",
    "else:\n",
    "   print(string[1:]+string[0]+'ay')"
   ]
  },
  {
   "cell_type": "markdown",
   "id": "cdf17a2d",
   "metadata": {},
   "source": [
    "## Question 7\n",
    "### File bloodtype1.txt records blood-types of patients (A, B, AB, O or OO) at a clinic. Write a function bldcount() that reads the file with name name and reports (i.e., prints) how many patients there are in each bloodtype."
   ]
  },
  {
   "cell_type": "code",
   "execution_count": 39,
   "id": "a015d59b",
   "metadata": {},
   "outputs": [
    {
     "name": "stdout",
     "output_type": "stream",
     "text": [
      "There are 13 patients of blood type AB.\n",
      "There are 1 patients of blood type B.\n",
      "There are 15 patients of blood type O.\n",
      "There are 15 patients of blood type A.\n"
     ]
    }
   ],
   "source": [
    "def bldcount(filename):\n",
    "    infile = open(filename, 'r')\n",
    "    content = infile.read()\n",
    "    words = content.split()\n",
    "    counters = {}\n",
    "    for item in words:\n",
    "        if item in counters: \n",
    "            counters[item] += 1\n",
    "        else: \n",
    "            counters[item] = 1\n",
    "    for key in counters.keys():\n",
    "        print(\"There are {} patients of blood type {}\".format(counters[key],key)+\".\")\n",
    "bldcount('bloodtype1.txt')"
   ]
  },
  {
   "cell_type": "markdown",
   "id": "5df71c82",
   "metadata": {},
   "source": [
    "## Question 8\n",
    "### Write a function curconv() that takes as input: \n",
    "### 1. a currency represented using a string (e.g., 'JPY' for the Japanese Yen or 'EUR' for the Euro)\n",
    "### 2. an amount\n",
    "### and then converts and returns the amount in US dollars."
   ]
  },
  {
   "cell_type": "code",
   "execution_count": 53,
   "id": "512c3cc3",
   "metadata": {},
   "outputs": [
    {
     "name": "stdout",
     "output_type": "stream",
     "text": [
      "122.96544\n",
      "1.241401\n"
     ]
    }
   ],
   "source": [
    "def currency(curr,value):\n",
    "    #infile = open('currencies.txt', 'r')\n",
    "    #content = infile.readlines()\n",
    "    #infile.close()\n",
    "    d = { line.split()[0] : line.split()[1] for line in open('currencies.txt') }\n",
    "    \n",
    "    # to understand the above line of code to understand the split function properly \n",
    "    #i refered to this website https://www.w3schools.com/python/ref_string_split.asp\n",
    "    \n",
    "    value1=float(d.get(curr))*value;\n",
    "    print(value1)\n",
    "currency('EUR',100)\n",
    "currency('JPY',100)\n",
    "\n"
   ]
  },
  {
   "cell_type": "markdown",
   "id": "d6d5388e",
   "metadata": {},
   "source": [
    "## Questoion 9\n",
    "\n",
    "##### Question: Trying to add incompatible variables, as in 6 + 'a'\n",
    "##### Answer : Exception(error) type: unsupported operand type(s) for +: 'int' and 'str'\n",
    "##### Question: Referring to the 12th item of a list that has only 10 items\n",
    " ie.list=[0,1,2,3,4,5,6,7,8,9]\n",
    "    print(list[12])\n",
    "##### Answer : IndexError: list index out of range        \n",
    "##### Question: Using an undeclared variable, such as print(x) #when x has not been defined\n",
    "##### Answer : NameError: name 'x' is not defined\n",
    "##### Question: Trying to open a file that does not exist, such as mistyping the file name or looking in the wrong directory.\n",
    "##### Answer : FileNotFoundError: [Errno 2] No such file or directory: '*incorrect file name'\n"
   ]
  },
  {
   "cell_type": "markdown",
   "id": "b16206db",
   "metadata": {},
   "source": [
    "## Questionn 10\n",
    "### Encryption is the process of hiding the meaning of a text by substituting letters in the message with other letters, according to some system. If the process is successful, no one but the intended recipient can understand the encrypted message. Cryptanalysis refers to attempts to undo the encryption, even if some details of the encryption are unknown (for example, if an encrypted message has been intercepted). The first step of cryptanalysis is often to build up a table of letter frequencies in the encrypted text. Assume that the string letters is already defined as 'abcdefghijklmnopqrstuvwxyz'. Write a function called frequencies() that takes a string as its only parameter, and returns a list of integers, showing the number of times each character appears in the text. Your function may ignore any characters that are not in letters.\n"
   ]
  },
  {
   "cell_type": "code",
   "execution_count": 25,
   "id": "bea5d6f9",
   "metadata": {},
   "outputs": [
    {
     "name": "stdout",
     "output_type": "stream",
     "text": [
      "[1, 0, 0, 0, 1, 0, 0, 0, 0, 0, 0, 1, 0, 0, 0, 2, 0, 0, 0, 0, 0, 0, 0, 0, 0, 0]\n",
      "[1, 1, 1, 3, 5, 1, 1, 2, 1, 0, 1, 0, 1, 2, 4, 0, 1, 2, 0, 2, 1, 0, 1, 1, 0, 0]\n"
     ]
    }
   ],
   "source": [
    "def frequencies(sttrr):\n",
    "    text=\"abcdefghijklmnopqrstuvwxyz\"\n",
    "    #list_1=list(text.strip(\" \"))\n",
    "    #test1 = any(n in sttrr for n in text)\n",
    "    array1 = [0] * 26;\n",
    "    \n",
    "    for i in range(len(sttrr)):\n",
    "        for j in range(len(text)):\n",
    "            if(sttrr[i]==text[j]):\n",
    "                array1[j] = array1[j] +1\n",
    "            j=j+1\n",
    "        i=i+1\n",
    "    print(array1)\n",
    "frequencies(\"apple\")\n",
    "frequencies('The quick red fox got bored and went home.')"
   ]
  }
 ],
 "metadata": {
  "kernelspec": {
   "display_name": "Python 3 (ipykernel)",
   "language": "python",
   "name": "python3"
  },
  "language_info": {
   "codemirror_mode": {
    "name": "ipython",
    "version": 3
   },
   "file_extension": ".py",
   "mimetype": "text/x-python",
   "name": "python",
   "nbconvert_exporter": "python",
   "pygments_lexer": "ipython3",
   "version": "3.9.12"
  }
 },
 "nbformat": 4,
 "nbformat_minor": 5
}
